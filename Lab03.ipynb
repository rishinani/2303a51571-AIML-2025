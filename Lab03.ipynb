{
  "nbformat": 4,
  "nbformat_minor": 0,
  "metadata": {
    "colab": {
      "provenance": [],
      "include_colab_link": true
    },
    "kernelspec": {
      "name": "python3",
      "display_name": "Python 3"
    },
    "language_info": {
      "name": "python"
    }
  },
  "cells": [
    {
      "cell_type": "markdown",
      "metadata": {
        "id": "view-in-github",
        "colab_type": "text"
      },
      "source": [
        "<a href=\"https://colab.research.google.com/github/rishinani/2303a51571-AIML-2025/blob/main/Lab03.ipynb\" target=\"_parent\"><img src=\"https://colab.research.google.com/assets/colab-badge.svg\" alt=\"Open In Colab\"/></a>"
      ]
    },
    {
      "cell_type": "code",
      "execution_count": null,
      "metadata": {
        "id": "CD1jvYotN_a4"
      },
      "outputs": [],
      "source": [
        " from collections import namedtuple, Counter, defaultdict\n",
        " import random\n",
        " import math\n",
        " import functools\n",
        " cache = functools.lru_cache(10**6)"
      ]
    },
    {
      "cell_type": "code",
      "source": [
        "class Game:\n",
        "\n",
        "  def actions (self , state):\n",
        "    ##Return a collection of the allowable moves from this state .”””\n",
        "    raise NotImplementedError\n",
        "\n",
        "  def result (self , state , move):\n",
        "    ##Return the state that results from making a move from a state .”””\n",
        "    raise NotImplementedError\n",
        "\n",
        "  def is_terminal (self , state):\n",
        "    ##Return True if this is a final state for the game.”””\n",
        "    return not self. actions (state)\n",
        "\n",
        "  def utility (self , state , player):\n",
        "    ##Return the value of this final state to player.”””\n",
        "    raise NotImplementedError"
      ],
      "metadata": {
        "id": "wHLflP6KO-PZ"
      },
      "execution_count": null,
      "outputs": []
    },
    {
      "cell_type": "code",
      "source": [
        "def play_game (game , strategies : dict , verbose=False ):\n",
        "  ##Play a turn−taking game. ‘strategies ‘ is a\n",
        "  ##{player name: function} dict ,\n",
        "  ##where function(state , game) is\n",
        "  ##used to get the player ’s move.”””\n",
        "  state = game. initial\n",
        "  while not game. is_terminal (state ):\n",
        "    player = state. to_move\n",
        "    move = strategies [ player ](game , state)\n",
        "    state = game. result (state , move)\n",
        "    if verbose :\n",
        "      print('Player ', player , 'move:', move)\n",
        "      print(state)\n",
        "  return state"
      ],
      "metadata": {
        "id": "u-2WzEsURVuo"
      },
      "execution_count": null,
      "outputs": []
    },
    {
      "cell_type": "code",
      "source": [
        "def minimax_search(game, state):\n",
        "    ## Search game tree to determine best move; return (value, move) pair.\n",
        "    player = state.to_move\n",
        "\n",
        "    def max_value(state):\n",
        "        if game.is_terminal(state):\n",
        "            return game.utility(state, player), None\n",
        "        v, move = -infinity, None\n",
        "        for a in game.actions(state):\n",
        "            v2, _ = min_value(game.result(state, a))\n",
        "            if v2 > v:\n",
        "                v, move = v2, a\n",
        "        return v, move\n",
        "\n",
        "    def min_value(state):\n",
        "        if game.is_terminal(state):\n",
        "            return game.utility(state, player), None\n",
        "        v, move = +infinity, None\n",
        "        for a in game.actions(state):\n",
        "            v2, _ = max_value(game.result(state, a))\n",
        "            if v2 < v:\n",
        "                v, move = v2, a\n",
        "        return v, move\n",
        "\n",
        "    return max_value(state)\n",
        "    infinity=math.inf\n"
      ],
      "metadata": {
        "id": "5qCHv6zhTTXR"
      },
      "execution_count": null,
      "outputs": []
    },
    {
      "cell_type": "code",
      "source": [
        "def alphabeta_search(game, state):\n",
        "    ##Search game to determine best action; use alpha-beta pruning.\n",
        "    ##Search all the way to the leaves.\"\"\"\n",
        "    player = state.to_move\n",
        "\n",
        "    def max_value(state, alpha, beta):\n",
        "        if game.is_terminal(state):\n",
        "            return game.utility(state, player), None\n",
        "        v, move = -infinity.inf, None\n",
        "        for a in game.actions(state):\n",
        "            v2, _ = min_value(game.result(state, a), alpha, beta)\n",
        "            if v2 > v:\n",
        "                v, move = v2, a\n",
        "            alpha = max(alpha, v)\n",
        "            if v >= beta:\n",
        "                return v, move\n",
        "        return v, move\n",
        "\n",
        "    def min_value(state, alpha, beta):\n",
        "        if game.is_terminal(state):\n",
        "            return game.utility(state, player), None\n",
        "        v, move = +infinity.inf, None\n",
        "        for a in game.actions(state):\n",
        "            v2, _ = max_value(game.result(state, a), alpha, beta)\n",
        "            if v2 < v:\n",
        "                v, move = v2, a\n",
        "            beta = min(beta, v)\n",
        "            if v <= alpha:\n",
        "                return v, move\n",
        "        return v, move\n",
        "\n",
        "    return max_value(state, -infinity.inf, +infinity.inf)"
      ],
      "metadata": {
        "id": "P72WKQRZZQIi"
      },
      "execution_count": null,
      "outputs": []
    },
    {
      "cell_type": "code",
      "source": [
        "class TicTacToe (Game ):\n",
        "  ##Play TicTacToe on an ‘height ‘ by ‘width‘ board, needing ‘k‘ in a row to win.\n",
        "  ##’X’ plays first against ’O’.”””\n",
        "\n",
        "\n",
        "  def init (self , height =3, width =3, k=3):\n",
        "    self.k = k # k in a row\n",
        "    self. squares = {(x, y) for x in range (width) for y in range( height)}\n",
        "    self.initial = Board(height=height, width=width, to_move='X', utility=0)\n",
        "\n",
        "  def actions (self , board ):\n",
        "    ##Legal moves are any square not yet taken.”””\n",
        "    return self.squares − set(board)\n",
        "\n",
        "\n",
        "  def result (self , board , square ):\n",
        "    ##Place a marker for current player on square.”””\n",
        "    player = board. to move\n",
        "    board = board.new({square : player}, to move =(’O’ if player == ’X’ else ’X’))\n",
        "    win = k i n r o w (board , player , square , self.k)\n",
        "    board. utility = (0 if not win else +1 if player == ’X’ else −1)\n",
        "    return board\n",
        "\n",
        "\n",
        "  def utility (self , board , player ):\n",
        "    ##Return the value to player; 1 for win, −1 for loss , 0 otherwise.”””\n",
        "    return board. utility if player == ’X’ else −board. utility\n",
        "\n",
        "  def is terminal (self , board ):\n",
        "    ##A board is a terminal state if it is won or there are no empty squares.”””\n",
        "    return board. utility != 0 or len(self. squares ) == len(board)\n",
        "\n",
        "  def display (self , board ): print(board)\n",
        "\n",
        "  def k i n r o w (board , player , square , k):\n",
        "    True if player has k pieces in a line through square.”””\n",
        "\n",
        "  def in row (x, y, dx , dy):\n",
        "    return 0 if board[x, y] != player else 1 + in row (x + dx , y + dy , dx , dy)\n",
        "    return any( in row(∗square , dx , dy) + in row(∗square , −dx , −dy)−1>=k\n",
        "               for (dx , dy) in ((0, 1), (1, 0), (1, 1), (1, −1)))"
      ],
      "metadata": {
        "colab": {
          "base_uri": "https://localhost:8080/",
          "height": 106
        },
        "id": "N4UK6Mgac3Sb",
        "outputId": "99bc4322-ce04-4264-bd49-004c31c963d4"
      },
      "execution_count": null,
      "outputs": [
        {
          "output_type": "error",
          "ename": "SyntaxError",
          "evalue": "invalid character '−' (U+2212) (<ipython-input-50-474fe8beedaf>, line 13)",
          "traceback": [
            "\u001b[0;36m  File \u001b[0;32m\"<ipython-input-50-474fe8beedaf>\"\u001b[0;36m, line \u001b[0;32m13\u001b[0m\n\u001b[0;31m    return self.squares − set(board)\u001b[0m\n\u001b[0m                        ^\u001b[0m\n\u001b[0;31mSyntaxError\u001b[0m\u001b[0;31m:\u001b[0m invalid character '−' (U+2212)\n"
          ]
        }
      ]
    }
  ]
}